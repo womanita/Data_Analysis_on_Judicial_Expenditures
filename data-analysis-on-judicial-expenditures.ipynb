{
 "cells": [
  {
   "cell_type": "code",
   "execution_count": 1,
   "metadata": {
    "_cell_guid": "b1076dfc-b9ad-4769-8c92-a6c4dae69d19",
    "_uuid": "8f2839f25d086af736a60e9eeb907d3b93b6e0e5",
    "execution": {
     "iopub.execute_input": "2020-11-12T21:05:21.830093Z",
     "iopub.status.busy": "2020-11-12T21:05:21.829115Z",
     "iopub.status.idle": "2020-11-12T21:05:21.836356Z",
     "shell.execute_reply": "2020-11-12T21:05:21.835613Z"
    },
    "papermill": {
     "duration": 0.037475,
     "end_time": "2020-11-12T21:05:21.836511",
     "exception": false,
     "start_time": "2020-11-12T21:05:21.799036",
     "status": "completed"
    },
    "tags": []
   },
   "outputs": [
    {
     "name": "stdout",
     "output_type": "stream",
     "text": [
      "/kaggle/input/judicial-expenditures-across-all-50-states/jeee16t08.csv\n"
     ]
    }
   ],
   "source": [
    "# This Python 3 environment comes with many helpful analytics libraries installed\n",
    "# It is defined by the kaggle/python Docker image: https://github.com/kaggle/docker-python\n",
    "# For example, here's several helpful packages to load\n",
    "\n",
    "import numpy as np # linear algebra\n",
    "import pandas as pd # data processing, CSV file I/O (e.g. pd.read_csv)\n",
    "\n",
    "# Input data files are available in the read-only \"../input/\" directory\n",
    "# For example, running this (by clicking run or pressing Shift+Enter) will list all files under the input directory\n",
    "\n",
    "import os\n",
    "for dirname, _, filenames in os.walk('/kaggle/input'):\n",
    "    for filename in filenames:\n",
    "        print(os.path.join(dirname, filename))\n",
    "\n",
    "# You can write up to 5GB to the current directory (/kaggle/working/) that gets preserved as output when you create a version using \"Save & Run All\" \n",
    "# You can also write temporary files to /kaggle/temp/, but they won't be saved outside of the current session"
   ]
  },
  {
   "cell_type": "markdown",
   "metadata": {
    "papermill": {
     "duration": 0.024412,
     "end_time": "2020-11-12T21:05:21.883990",
     "exception": false,
     "start_time": "2020-11-12T21:05:21.859578",
     "status": "completed"
    },
    "tags": []
   },
   "source": [
    "# Introduction"
   ]
  },
  {
   "cell_type": "markdown",
   "metadata": {
    "papermill": {
     "duration": 0.021993,
     "end_time": "2020-11-12T21:05:21.928390",
     "exception": false,
     "start_time": "2020-11-12T21:05:21.906397",
     "status": "completed"
    },
    "tags": []
   },
   "source": [
    "Let's say we wanted to find which 3 variable correlated most with population for judicial expenditures.  "
   ]
  },
  {
   "cell_type": "code",
   "execution_count": 2,
   "metadata": {
    "_cell_guid": "79c7e3d0-c299-4dcb-8224-4455121ee9b0",
    "_uuid": "d629ff2d2480ee46fbb7e2d37f6b5fab8052498a",
    "execution": {
     "iopub.execute_input": "2020-11-12T21:05:21.980088Z",
     "iopub.status.busy": "2020-11-12T21:05:21.979236Z",
     "iopub.status.idle": "2020-11-12T21:05:21.991044Z",
     "shell.execute_reply": "2020-11-12T21:05:21.990366Z"
    },
    "papermill": {
     "duration": 0.040419,
     "end_time": "2020-11-12T21:05:21.991173",
     "exception": false,
     "start_time": "2020-11-12T21:05:21.950754",
     "status": "completed"
    },
    "tags": []
   },
   "outputs": [
    {
     "name": "stdout",
     "output_type": "stream",
     "text": [
      "data successfully loaded.\n"
     ]
    }
   ],
   "source": [
    "data=pd.read_csv(\"/kaggle/input/judicial-expenditures-across-all-50-states/jeee16t08.csv\")\n",
    "print('data successfully loaded.')"
   ]
  },
  {
   "cell_type": "markdown",
   "metadata": {
    "papermill": {
     "duration": 0.024317,
     "end_time": "2020-11-12T21:05:22.039074",
     "exception": false,
     "start_time": "2020-11-12T21:05:22.014757",
     "status": "completed"
    },
    "tags": []
   },
   "source": [
    "# Preliminary Data Exploration"
   ]
  },
  {
   "cell_type": "code",
   "execution_count": 3,
   "metadata": {
    "execution": {
     "iopub.execute_input": "2020-11-12T21:05:22.093585Z",
     "iopub.status.busy": "2020-11-12T21:05:22.092765Z",
     "iopub.status.idle": "2020-11-12T21:05:22.096804Z",
     "shell.execute_reply": "2020-11-12T21:05:22.096082Z"
    },
    "papermill": {
     "duration": 0.034266,
     "end_time": "2020-11-12T21:05:22.096933",
     "exception": false,
     "start_time": "2020-11-12T21:05:22.062667",
     "status": "completed"
    },
    "tags": []
   },
   "outputs": [
    {
     "data": {
      "text/plain": [
       "(52, 11)"
      ]
     },
     "execution_count": 3,
     "metadata": {},
     "output_type": "execute_result"
    }
   ],
   "source": [
    "data.shape"
   ]
  },
  {
   "cell_type": "markdown",
   "metadata": {
    "papermill": {
     "duration": 0.022897,
     "end_time": "2020-11-12T21:05:22.143194",
     "exception": false,
     "start_time": "2020-11-12T21:05:22.120297",
     "status": "completed"
    },
    "tags": []
   },
   "source": [
    "As we can see, the dataframe has 52 rows and 11 columns.  As there are 50 states, this leaves the question of why there are 52 rows."
   ]
  },
  {
   "cell_type": "code",
   "execution_count": 4,
   "metadata": {
    "execution": {
     "iopub.execute_input": "2020-11-12T21:05:22.212094Z",
     "iopub.status.busy": "2020-11-12T21:05:22.210984Z",
     "iopub.status.idle": "2020-11-12T21:05:22.225047Z",
     "shell.execute_reply": "2020-11-12T21:05:22.224398Z"
    },
    "papermill": {
     "duration": 0.058564,
     "end_time": "2020-11-12T21:05:22.225171",
     "exception": false,
     "start_time": "2020-11-12T21:05:22.166607",
     "status": "completed"
    },
    "tags": []
   },
   "outputs": [
    {
     "data": {
      "text/html": [
       "<div>\n",
       "<style scoped>\n",
       "    .dataframe tbody tr th:only-of-type {\n",
       "        vertical-align: middle;\n",
       "    }\n",
       "\n",
       "    .dataframe tbody tr th {\n",
       "        vertical-align: top;\n",
       "    }\n",
       "\n",
       "    .dataframe thead th {\n",
       "        text-align: right;\n",
       "    }\n",
       "</style>\n",
       "<table border=\"1\" class=\"dataframe\">\n",
       "  <thead>\n",
       "    <tr style=\"text-align: right;\">\n",
       "      <th></th>\n",
       "      <th>State</th>\n",
       "      <th>Population 2016</th>\n",
       "      <th>Total justice system PC</th>\n",
       "      <th>Police Protection PC</th>\n",
       "      <th>Judicial and legal PC</th>\n",
       "      <th>Corrections PC</th>\n",
       "      <th>Total justice system Employment</th>\n",
       "      <th>police protection Total Employment</th>\n",
       "      <th>police protection Sworn only Employment</th>\n",
       "      <th>Judicial and legal Employment</th>\n",
       "      <th>Corrections Employment</th>\n",
       "    </tr>\n",
       "  </thead>\n",
       "  <tbody>\n",
       "    <tr>\n",
       "      <th>0</th>\n",
       "      <td>Total</td>\n",
       "      <td>323071342</td>\n",
       "      <td>722.70</td>\n",
       "      <td>338.04</td>\n",
       "      <td>143.18</td>\n",
       "      <td>241.48</td>\n",
       "      <td>63.12</td>\n",
       "      <td>28.51</td>\n",
       "      <td>21.73</td>\n",
       "      <td>12.83</td>\n",
       "      <td>21.78</td>\n",
       "    </tr>\n",
       "    <tr>\n",
       "      <th>1</th>\n",
       "      <td>Alabama</td>\n",
       "      <td>4864745</td>\n",
       "      <td>480.11</td>\n",
       "      <td>257.21</td>\n",
       "      <td>74.43</td>\n",
       "      <td>148.47</td>\n",
       "      <td>55.43</td>\n",
       "      <td>29.08</td>\n",
       "      <td>23.00</td>\n",
       "      <td>9.73</td>\n",
       "      <td>16.62</td>\n",
       "    </tr>\n",
       "    <tr>\n",
       "      <th>2</th>\n",
       "      <td>Alaska</td>\n",
       "      <td>741504</td>\n",
       "      <td>1297.65</td>\n",
       "      <td>499.27</td>\n",
       "      <td>342.55</td>\n",
       "      <td>455.84</td>\n",
       "      <td>77.18</td>\n",
       "      <td>25.68</td>\n",
       "      <td>15.58</td>\n",
       "      <td>20.08</td>\n",
       "      <td>31.42</td>\n",
       "    </tr>\n",
       "    <tr>\n",
       "      <th>3</th>\n",
       "      <td>Arizona</td>\n",
       "      <td>6945452</td>\n",
       "      <td>709.77</td>\n",
       "      <td>325.62</td>\n",
       "      <td>141.59</td>\n",
       "      <td>242.56</td>\n",
       "      <td>66.07</td>\n",
       "      <td>28.30</td>\n",
       "      <td>20.43</td>\n",
       "      <td>15.91</td>\n",
       "      <td>21.85</td>\n",
       "    </tr>\n",
       "    <tr>\n",
       "      <th>4</th>\n",
       "      <td>Arkansas</td>\n",
       "      <td>2990410</td>\n",
       "      <td>503.99</td>\n",
       "      <td>231.09</td>\n",
       "      <td>73.68</td>\n",
       "      <td>199.21</td>\n",
       "      <td>68.44</td>\n",
       "      <td>29.50</td>\n",
       "      <td>22.11</td>\n",
       "      <td>11.52</td>\n",
       "      <td>27.41</td>\n",
       "    </tr>\n",
       "  </tbody>\n",
       "</table>\n",
       "</div>"
      ],
      "text/plain": [
       "      State  Population 2016  Total justice system PC   Police Protection PC  \\\n",
       "0     Total        323071342                    722.70                338.04   \n",
       "1   Alabama          4864745                    480.11                257.21   \n",
       "2    Alaska           741504                   1297.65                499.27   \n",
       "3   Arizona          6945452                    709.77                325.62   \n",
       "4  Arkansas          2990410                    503.99                231.09   \n",
       "\n",
       "   Judicial and legal PC  Corrections PC  Total justice system Employment   \\\n",
       "0                 143.18          241.48                             63.12   \n",
       "1                  74.43          148.47                             55.43   \n",
       "2                 342.55          455.84                             77.18   \n",
       "3                 141.59          242.56                             66.07   \n",
       "4                  73.68          199.21                             68.44   \n",
       "\n",
       "   police protection Total Employment   \\\n",
       "0                                28.51   \n",
       "1                                29.08   \n",
       "2                                25.68   \n",
       "3                                28.30   \n",
       "4                                29.50   \n",
       "\n",
       "   police protection Sworn only Employment   Judicial and legal Employment   \\\n",
       "0                                     21.73                           12.83   \n",
       "1                                     23.00                            9.73   \n",
       "2                                     15.58                           20.08   \n",
       "3                                     20.43                           15.91   \n",
       "4                                     22.11                           11.52   \n",
       "\n",
       "   Corrections Employment   \n",
       "0                    21.78  \n",
       "1                    16.62  \n",
       "2                    31.42  \n",
       "3                    21.85  \n",
       "4                    27.41  "
      ]
     },
     "execution_count": 4,
     "metadata": {},
     "output_type": "execute_result"
    }
   ],
   "source": [
    "data.head()"
   ]
  },
  {
   "cell_type": "markdown",
   "metadata": {
    "papermill": {
     "duration": 0.02403,
     "end_time": "2020-11-12T21:05:22.274222",
     "exception": false,
     "start_time": "2020-11-12T21:05:22.250192",
     "status": "completed"
    },
    "tags": []
   },
   "source": [
    "The '0' index row is the total count for the whole country, explaining one of the extra values.  I suspect that the other value is Washington, D.C., so I look at the total column \"State.\""
   ]
  },
  {
   "cell_type": "code",
   "execution_count": 5,
   "metadata": {
    "execution": {
     "iopub.execute_input": "2020-11-12T21:05:22.332098Z",
     "iopub.status.busy": "2020-11-12T21:05:22.330928Z",
     "iopub.status.idle": "2020-11-12T21:05:22.335934Z",
     "shell.execute_reply": "2020-11-12T21:05:22.335339Z"
    },
    "papermill": {
     "duration": 0.037403,
     "end_time": "2020-11-12T21:05:22.336062",
     "exception": false,
     "start_time": "2020-11-12T21:05:22.298659",
     "status": "completed"
    },
    "tags": []
   },
   "outputs": [
    {
     "data": {
      "text/plain": [
       "0                    Total\n",
       "1                  Alabama\n",
       "2                   Alaska\n",
       "3                  Arizona\n",
       "4                 Arkansas\n",
       "5               California\n",
       "6                 Colorado\n",
       "7              Connecticut\n",
       "8                 Delaware\n",
       "9     District of Columbia\n",
       "10                 Florida\n",
       "11                 Georgia\n",
       "12                  Hawaii\n",
       "13                   Idaho\n",
       "14                Illinois\n",
       "15                 Indiana\n",
       "16                    Iowa\n",
       "17                  Kansas\n",
       "18                Kentucky\n",
       "19               Louisiana\n",
       "20                   Maine\n",
       "21                Maryland\n",
       "22           Massachusetts\n",
       "23                Michigan\n",
       "24               Minnesota\n",
       "25             Mississippi\n",
       "26                Missouri\n",
       "27                 Montana\n",
       "28                Nebraska\n",
       "29                  Nevada\n",
       "30           New Hampshire\n",
       "31              New Jersey\n",
       "32              New Mexico\n",
       "33                New York\n",
       "34          North Carolina\n",
       "35            North Dakota\n",
       "36                    Ohio\n",
       "37                Oklahoma\n",
       "38                  Oregon\n",
       "39            Pennsylvania\n",
       "40            Rhode Island\n",
       "41          South Carolina\n",
       "42            South Dakota\n",
       "43               Tennessee\n",
       "44                   Texas\n",
       "45                    Utah\n",
       "46                 Vermont\n",
       "47                Virginia\n",
       "48              Washington\n",
       "49           West Virginia\n",
       "50               Wisconsin\n",
       "51                 Wyoming\n",
       "Name: State, dtype: object"
      ]
     },
     "execution_count": 5,
     "metadata": {},
     "output_type": "execute_result"
    }
   ],
   "source": [
    "data['State']"
   ]
  },
  {
   "cell_type": "markdown",
   "metadata": {
    "papermill": {
     "duration": 0.024522,
     "end_time": "2020-11-12T21:05:22.385981",
     "exception": false,
     "start_time": "2020-11-12T21:05:22.361459",
     "status": "completed"
    },
    "tags": []
   },
   "source": [
    "In row 9, this suspision is confirmed by the value \"District of Columbia.\"  Going forward, this means that we can disregard the first row in our analysis and include the District of Columbia as if it were a state.  Next, we check for null values. "
   ]
  },
  {
   "cell_type": "code",
   "execution_count": 6,
   "metadata": {
    "execution": {
     "iopub.execute_input": "2020-11-12T21:05:22.445456Z",
     "iopub.status.busy": "2020-11-12T21:05:22.444446Z",
     "iopub.status.idle": "2020-11-12T21:05:22.449546Z",
     "shell.execute_reply": "2020-11-12T21:05:22.448897Z"
    },
    "papermill": {
     "duration": 0.038423,
     "end_time": "2020-11-12T21:05:22.449671",
     "exception": false,
     "start_time": "2020-11-12T21:05:22.411248",
     "status": "completed"
    },
    "tags": []
   },
   "outputs": [
    {
     "data": {
      "text/plain": [
       "State                                       0\n",
       "Population 2016                             0\n",
       "Total justice system PC                     0\n",
       "Police Protection PC                        0\n",
       "Judicial and legal PC                       0\n",
       "Corrections PC                              0\n",
       "Total justice system Employment             0\n",
       "police protection Total Employment          0\n",
       "police protection Sworn only Employment     0\n",
       "Judicial and legal Employment               0\n",
       "Corrections Employment                      0\n",
       "dtype: int64"
      ]
     },
     "execution_count": 6,
     "metadata": {},
     "output_type": "execute_result"
    }
   ],
   "source": [
    "data.isnull().sum()"
   ]
  },
  {
   "cell_type": "markdown",
   "metadata": {
    "papermill": {
     "duration": 0.025474,
     "end_time": "2020-11-12T21:05:22.500877",
     "exception": false,
     "start_time": "2020-11-12T21:05:22.475403",
     "status": "completed"
    },
    "tags": []
   },
   "source": [
    "As we can see, there are no null values in this dataset, making our job much easier.  "
   ]
  },
  {
   "cell_type": "markdown",
   "metadata": {
    "papermill": {
     "duration": 0.025466,
     "end_time": "2020-11-12T21:05:22.552122",
     "exception": false,
     "start_time": "2020-11-12T21:05:22.526656",
     "status": "completed"
    },
    "tags": []
   },
   "source": [
    "# Numerical Analysis"
   ]
  },
  {
   "cell_type": "code",
   "execution_count": 7,
   "metadata": {
    "execution": {
     "iopub.execute_input": "2020-11-12T21:05:22.613428Z",
     "iopub.status.busy": "2020-11-12T21:05:22.612620Z",
     "iopub.status.idle": "2020-11-12T21:05:22.655468Z",
     "shell.execute_reply": "2020-11-12T21:05:22.654836Z"
    },
    "papermill": {
     "duration": 0.077718,
     "end_time": "2020-11-12T21:05:22.655617",
     "exception": false,
     "start_time": "2020-11-12T21:05:22.577899",
     "status": "completed"
    },
    "tags": []
   },
   "outputs": [
    {
     "data": {
      "text/html": [
       "<div>\n",
       "<style scoped>\n",
       "    .dataframe tbody tr th:only-of-type {\n",
       "        vertical-align: middle;\n",
       "    }\n",
       "\n",
       "    .dataframe tbody tr th {\n",
       "        vertical-align: top;\n",
       "    }\n",
       "\n",
       "    .dataframe thead th {\n",
       "        text-align: right;\n",
       "    }\n",
       "</style>\n",
       "<table border=\"1\" class=\"dataframe\">\n",
       "  <thead>\n",
       "    <tr style=\"text-align: right;\">\n",
       "      <th></th>\n",
       "      <th>Population 2016</th>\n",
       "      <th>Total justice system PC</th>\n",
       "      <th>Police Protection PC</th>\n",
       "      <th>Judicial and legal PC</th>\n",
       "      <th>Corrections PC</th>\n",
       "      <th>Total justice system Employment</th>\n",
       "      <th>police protection Total Employment</th>\n",
       "      <th>police protection Sworn only Employment</th>\n",
       "      <th>Judicial and legal Employment</th>\n",
       "      <th>Corrections Employment</th>\n",
       "    </tr>\n",
       "  </thead>\n",
       "  <tbody>\n",
       "    <tr>\n",
       "      <th>count</th>\n",
       "      <td>5.200000e+01</td>\n",
       "      <td>52.000000</td>\n",
       "      <td>52.000000</td>\n",
       "      <td>52.000000</td>\n",
       "      <td>52.000000</td>\n",
       "      <td>52.000000</td>\n",
       "      <td>52.000000</td>\n",
       "      <td>52.000000</td>\n",
       "      <td>52.000000</td>\n",
       "      <td>52.000000</td>\n",
       "    </tr>\n",
       "    <tr>\n",
       "      <th>mean</th>\n",
       "      <td>1.242582e+07</td>\n",
       "      <td>690.660577</td>\n",
       "      <td>322.158269</td>\n",
       "      <td>141.855192</td>\n",
       "      <td>226.646923</td>\n",
       "      <td>62.916154</td>\n",
       "      <td>28.313462</td>\n",
       "      <td>21.539038</td>\n",
       "      <td>13.510192</td>\n",
       "      <td>21.091154</td>\n",
       "    </tr>\n",
       "    <tr>\n",
       "      <th>std</th>\n",
       "      <td>4.450496e+07</td>\n",
       "      <td>187.468456</td>\n",
       "      <td>107.396671</td>\n",
       "      <td>50.892977</td>\n",
       "      <td>68.012654</td>\n",
       "      <td>11.790483</td>\n",
       "      <td>6.775407</td>\n",
       "      <td>6.321692</td>\n",
       "      <td>4.169876</td>\n",
       "      <td>4.866900</td>\n",
       "    </tr>\n",
       "    <tr>\n",
       "      <th>min</th>\n",
       "      <td>5.842900e+05</td>\n",
       "      <td>450.080000</td>\n",
       "      <td>160.320000</td>\n",
       "      <td>72.350000</td>\n",
       "      <td>141.860000</td>\n",
       "      <td>42.660000</td>\n",
       "      <td>19.760000</td>\n",
       "      <td>13.680000</td>\n",
       "      <td>7.290000</td>\n",
       "      <td>13.600000</td>\n",
       "    </tr>\n",
       "    <tr>\n",
       "      <th>25%</th>\n",
       "      <td>1.793929e+06</td>\n",
       "      <td>557.665000</td>\n",
       "      <td>262.160000</td>\n",
       "      <td>111.995000</td>\n",
       "      <td>177.062500</td>\n",
       "      <td>55.805000</td>\n",
       "      <td>24.902500</td>\n",
       "      <td>17.825000</td>\n",
       "      <td>10.792500</td>\n",
       "      <td>17.645000</td>\n",
       "    </tr>\n",
       "    <tr>\n",
       "      <th>50%</th>\n",
       "      <td>4.558222e+06</td>\n",
       "      <td>667.840000</td>\n",
       "      <td>297.555000</td>\n",
       "      <td>134.270000</td>\n",
       "      <td>209.160000</td>\n",
       "      <td>61.005000</td>\n",
       "      <td>27.570000</td>\n",
       "      <td>20.950000</td>\n",
       "      <td>12.785000</td>\n",
       "      <td>20.095000</td>\n",
       "    </tr>\n",
       "    <tr>\n",
       "      <th>75%</th>\n",
       "      <td>7.573746e+06</td>\n",
       "      <td>746.622500</td>\n",
       "      <td>352.662500</td>\n",
       "      <td>160.262500</td>\n",
       "      <td>248.925000</td>\n",
       "      <td>66.350000</td>\n",
       "      <td>29.652500</td>\n",
       "      <td>22.725000</td>\n",
       "      <td>15.540000</td>\n",
       "      <td>24.497500</td>\n",
       "    </tr>\n",
       "    <tr>\n",
       "      <th>max</th>\n",
       "      <td>3.230713e+08</td>\n",
       "      <td>1297.650000</td>\n",
       "      <td>864.210000</td>\n",
       "      <td>342.550000</td>\n",
       "      <td>455.840000</td>\n",
       "      <td>112.530000</td>\n",
       "      <td>63.360000</td>\n",
       "      <td>54.850000</td>\n",
       "      <td>29.390000</td>\n",
       "      <td>33.340000</td>\n",
       "    </tr>\n",
       "  </tbody>\n",
       "</table>\n",
       "</div>"
      ],
      "text/plain": [
       "       Population 2016  Total justice system PC   Police Protection PC  \\\n",
       "count     5.200000e+01                 52.000000             52.000000   \n",
       "mean      1.242582e+07                690.660577            322.158269   \n",
       "std       4.450496e+07                187.468456            107.396671   \n",
       "min       5.842900e+05                450.080000            160.320000   \n",
       "25%       1.793929e+06                557.665000            262.160000   \n",
       "50%       4.558222e+06                667.840000            297.555000   \n",
       "75%       7.573746e+06                746.622500            352.662500   \n",
       "max       3.230713e+08               1297.650000            864.210000   \n",
       "\n",
       "       Judicial and legal PC  Corrections PC  \\\n",
       "count              52.000000       52.000000   \n",
       "mean              141.855192      226.646923   \n",
       "std                50.892977       68.012654   \n",
       "min                72.350000      141.860000   \n",
       "25%               111.995000      177.062500   \n",
       "50%               134.270000      209.160000   \n",
       "75%               160.262500      248.925000   \n",
       "max               342.550000      455.840000   \n",
       "\n",
       "       Total justice system Employment   police protection Total Employment   \\\n",
       "count                         52.000000                            52.000000   \n",
       "mean                          62.916154                            28.313462   \n",
       "std                           11.790483                             6.775407   \n",
       "min                           42.660000                            19.760000   \n",
       "25%                           55.805000                            24.902500   \n",
       "50%                           61.005000                            27.570000   \n",
       "75%                           66.350000                            29.652500   \n",
       "max                          112.530000                            63.360000   \n",
       "\n",
       "       police protection Sworn only Employment   \\\n",
       "count                                 52.000000   \n",
       "mean                                  21.539038   \n",
       "std                                    6.321692   \n",
       "min                                   13.680000   \n",
       "25%                                   17.825000   \n",
       "50%                                   20.950000   \n",
       "75%                                   22.725000   \n",
       "max                                   54.850000   \n",
       "\n",
       "       Judicial and legal Employment   Corrections Employment   \n",
       "count                       52.000000                52.000000  \n",
       "mean                        13.510192                21.091154  \n",
       "std                          4.169876                 4.866900  \n",
       "min                          7.290000                13.600000  \n",
       "25%                         10.792500                17.645000  \n",
       "50%                         12.785000                20.095000  \n",
       "75%                         15.540000                24.497500  \n",
       "max                         29.390000                33.340000  "
      ]
     },
     "execution_count": 7,
     "metadata": {},
     "output_type": "execute_result"
    }
   ],
   "source": [
    "data.describe()"
   ]
  },
  {
   "cell_type": "markdown",
   "metadata": {
    "papermill": {
     "duration": 0.026069,
     "end_time": "2020-11-12T21:05:22.708182",
     "exception": false,
     "start_time": "2020-11-12T21:05:22.682113",
     "status": "completed"
    },
    "tags": []
   },
   "source": [
    "The greatest spread is in the Total Justice System expenditures Per Capita, as measured by the standard deviation.  "
   ]
  },
  {
   "cell_type": "markdown",
   "metadata": {
    "papermill": {
     "duration": 0.025896,
     "end_time": "2020-11-12T21:05:22.760675",
     "exception": false,
     "start_time": "2020-11-12T21:05:22.734779",
     "status": "completed"
    },
    "tags": []
   },
   "source": [
    "To do some exploratory data visualization, we will use a sample of the largest states by population."
   ]
  },
  {
   "cell_type": "code",
   "execution_count": 8,
   "metadata": {
    "execution": {
     "iopub.execute_input": "2020-11-12T21:05:22.822657Z",
     "iopub.status.busy": "2020-11-12T21:05:22.821585Z",
     "iopub.status.idle": "2020-11-12T21:05:22.847230Z",
     "shell.execute_reply": "2020-11-12T21:05:22.846611Z"
    },
    "papermill": {
     "duration": 0.060328,
     "end_time": "2020-11-12T21:05:22.847352",
     "exception": false,
     "start_time": "2020-11-12T21:05:22.787024",
     "status": "completed"
    },
    "tags": []
   },
   "outputs": [
    {
     "data": {
      "text/html": [
       "<div>\n",
       "<style scoped>\n",
       "    .dataframe tbody tr th:only-of-type {\n",
       "        vertical-align: middle;\n",
       "    }\n",
       "\n",
       "    .dataframe tbody tr th {\n",
       "        vertical-align: top;\n",
       "    }\n",
       "\n",
       "    .dataframe thead th {\n",
       "        text-align: right;\n",
       "    }\n",
       "</style>\n",
       "<table border=\"1\" class=\"dataframe\">\n",
       "  <thead>\n",
       "    <tr style=\"text-align: right;\">\n",
       "      <th></th>\n",
       "      <th>State</th>\n",
       "      <th>Population 2016</th>\n",
       "      <th>Total justice system PC</th>\n",
       "      <th>Police Protection PC</th>\n",
       "      <th>Judicial and legal PC</th>\n",
       "      <th>Corrections PC</th>\n",
       "      <th>Total justice system Employment</th>\n",
       "      <th>police protection Total Employment</th>\n",
       "      <th>police protection Sworn only Employment</th>\n",
       "      <th>Judicial and legal Employment</th>\n",
       "      <th>Corrections Employment</th>\n",
       "    </tr>\n",
       "  </thead>\n",
       "  <tbody>\n",
       "    <tr>\n",
       "      <th>0</th>\n",
       "      <td>Total</td>\n",
       "      <td>323071342</td>\n",
       "      <td>722.70</td>\n",
       "      <td>338.04</td>\n",
       "      <td>143.18</td>\n",
       "      <td>241.48</td>\n",
       "      <td>63.12</td>\n",
       "      <td>28.51</td>\n",
       "      <td>21.73</td>\n",
       "      <td>12.83</td>\n",
       "      <td>21.78</td>\n",
       "    </tr>\n",
       "    <tr>\n",
       "      <th>5</th>\n",
       "      <td>California</td>\n",
       "      <td>39209127</td>\n",
       "      <td>1063.89</td>\n",
       "      <td>448.11</td>\n",
       "      <td>221.27</td>\n",
       "      <td>394.51</td>\n",
       "      <td>59.85</td>\n",
       "      <td>25.65</td>\n",
       "      <td>18.27</td>\n",
       "      <td>11.31</td>\n",
       "      <td>22.89</td>\n",
       "    </tr>\n",
       "    <tr>\n",
       "      <th>44</th>\n",
       "      <td>Texas</td>\n",
       "      <td>27937492</td>\n",
       "      <td>592.19</td>\n",
       "      <td>272.58</td>\n",
       "      <td>107.66</td>\n",
       "      <td>211.95</td>\n",
       "      <td>61.91</td>\n",
       "      <td>27.25</td>\n",
       "      <td>19.87</td>\n",
       "      <td>10.00</td>\n",
       "      <td>24.67</td>\n",
       "    </tr>\n",
       "    <tr>\n",
       "      <th>10</th>\n",
       "      <td>Florida</td>\n",
       "      <td>20629982</td>\n",
       "      <td>701.08</td>\n",
       "      <td>380.44</td>\n",
       "      <td>114.70</td>\n",
       "      <td>205.94</td>\n",
       "      <td>64.42</td>\n",
       "      <td>29.69</td>\n",
       "      <td>19.78</td>\n",
       "      <td>15.12</td>\n",
       "      <td>19.61</td>\n",
       "    </tr>\n",
       "    <tr>\n",
       "      <th>33</th>\n",
       "      <td>New York</td>\n",
       "      <td>19641589</td>\n",
       "      <td>1048.95</td>\n",
       "      <td>505.16</td>\n",
       "      <td>211.65</td>\n",
       "      <td>332.14</td>\n",
       "      <td>86.98</td>\n",
       "      <td>44.03</td>\n",
       "      <td>38.35</td>\n",
       "      <td>15.90</td>\n",
       "      <td>27.05</td>\n",
       "    </tr>\n",
       "    <tr>\n",
       "      <th>14</th>\n",
       "      <td>Illinois</td>\n",
       "      <td>12826895</td>\n",
       "      <td>671.84</td>\n",
       "      <td>406.65</td>\n",
       "      <td>120.78</td>\n",
       "      <td>144.41</td>\n",
       "      <td>60.34</td>\n",
       "      <td>31.95</td>\n",
       "      <td>25.49</td>\n",
       "      <td>10.68</td>\n",
       "      <td>17.71</td>\n",
       "    </tr>\n",
       "    <tr>\n",
       "      <th>39</th>\n",
       "      <td>Pennsylvania</td>\n",
       "      <td>12783538</td>\n",
       "      <td>714.15</td>\n",
       "      <td>290.79</td>\n",
       "      <td>148.86</td>\n",
       "      <td>274.49</td>\n",
       "      <td>63.48</td>\n",
       "      <td>25.13</td>\n",
       "      <td>20.88</td>\n",
       "      <td>14.17</td>\n",
       "      <td>24.18</td>\n",
       "    </tr>\n",
       "    <tr>\n",
       "      <th>36</th>\n",
       "      <td>Ohio</td>\n",
       "      <td>11635003</td>\n",
       "      <td>656.22</td>\n",
       "      <td>333.68</td>\n",
       "      <td>150.09</td>\n",
       "      <td>172.46</td>\n",
       "      <td>62.78</td>\n",
       "      <td>26.98</td>\n",
       "      <td>20.28</td>\n",
       "      <td>17.03</td>\n",
       "      <td>18.77</td>\n",
       "    </tr>\n",
       "    <tr>\n",
       "      <th>11</th>\n",
       "      <td>Georgia</td>\n",
       "      <td>10304763</td>\n",
       "      <td>568.02</td>\n",
       "      <td>263.81</td>\n",
       "      <td>117.93</td>\n",
       "      <td>186.28</td>\n",
       "      <td>66.31</td>\n",
       "      <td>26.65</td>\n",
       "      <td>21.33</td>\n",
       "      <td>13.89</td>\n",
       "      <td>25.77</td>\n",
       "    </tr>\n",
       "    <tr>\n",
       "      <th>34</th>\n",
       "      <td>North Carolina</td>\n",
       "      <td>10156679</td>\n",
       "      <td>576.85</td>\n",
       "      <td>322.10</td>\n",
       "      <td>75.23</td>\n",
       "      <td>179.52</td>\n",
       "      <td>60.49</td>\n",
       "      <td>27.51</td>\n",
       "      <td>22.46</td>\n",
       "      <td>7.43</td>\n",
       "      <td>25.55</td>\n",
       "    </tr>\n",
       "  </tbody>\n",
       "</table>\n",
       "</div>"
      ],
      "text/plain": [
       "             State  Population 2016  Total justice system PC   \\\n",
       "0            Total        323071342                    722.70   \n",
       "5       California         39209127                   1063.89   \n",
       "44           Texas         27937492                    592.19   \n",
       "10         Florida         20629982                    701.08   \n",
       "33        New York         19641589                   1048.95   \n",
       "14        Illinois         12826895                    671.84   \n",
       "39    Pennsylvania         12783538                    714.15   \n",
       "36            Ohio         11635003                    656.22   \n",
       "11         Georgia         10304763                    568.02   \n",
       "34  North Carolina         10156679                    576.85   \n",
       "\n",
       "    Police Protection PC  Judicial and legal PC  Corrections PC  \\\n",
       "0                 338.04                 143.18          241.48   \n",
       "5                 448.11                 221.27          394.51   \n",
       "44                272.58                 107.66          211.95   \n",
       "10                380.44                 114.70          205.94   \n",
       "33                505.16                 211.65          332.14   \n",
       "14                406.65                 120.78          144.41   \n",
       "39                290.79                 148.86          274.49   \n",
       "36                333.68                 150.09          172.46   \n",
       "11                263.81                 117.93          186.28   \n",
       "34                322.10                  75.23          179.52   \n",
       "\n",
       "    Total justice system Employment   police protection Total Employment   \\\n",
       "0                              63.12                                28.51   \n",
       "5                              59.85                                25.65   \n",
       "44                             61.91                                27.25   \n",
       "10                             64.42                                29.69   \n",
       "33                             86.98                                44.03   \n",
       "14                             60.34                                31.95   \n",
       "39                             63.48                                25.13   \n",
       "36                             62.78                                26.98   \n",
       "11                             66.31                                26.65   \n",
       "34                             60.49                                27.51   \n",
       "\n",
       "    police protection Sworn only Employment   Judicial and legal Employment   \\\n",
       "0                                      21.73                           12.83   \n",
       "5                                      18.27                           11.31   \n",
       "44                                     19.87                           10.00   \n",
       "10                                     19.78                           15.12   \n",
       "33                                     38.35                           15.90   \n",
       "14                                     25.49                           10.68   \n",
       "39                                     20.88                           14.17   \n",
       "36                                     20.28                           17.03   \n",
       "11                                     21.33                           13.89   \n",
       "34                                     22.46                            7.43   \n",
       "\n",
       "    Corrections Employment   \n",
       "0                     21.78  \n",
       "5                     22.89  \n",
       "44                    24.67  \n",
       "10                    19.61  \n",
       "33                    27.05  \n",
       "14                    17.71  \n",
       "39                    24.18  \n",
       "36                    18.77  \n",
       "11                    25.77  \n",
       "34                    25.55  "
      ]
     },
     "execution_count": 8,
     "metadata": {},
     "output_type": "execute_result"
    }
   ],
   "source": [
    "plot1data=data.nlargest(10, ['Population 2016'])\n",
    "plot1data"
   ]
  },
  {
   "cell_type": "code",
   "execution_count": 9,
   "metadata": {
    "execution": {
     "iopub.execute_input": "2020-11-12T21:05:22.909282Z",
     "iopub.status.busy": "2020-11-12T21:05:22.908216Z",
     "iopub.status.idle": "2020-11-12T21:05:22.910937Z",
     "shell.execute_reply": "2020-11-12T21:05:22.911467Z"
    },
    "papermill": {
     "duration": 0.036817,
     "end_time": "2020-11-12T21:05:22.911674",
     "exception": false,
     "start_time": "2020-11-12T21:05:22.874857",
     "status": "completed"
    },
    "tags": []
   },
   "outputs": [],
   "source": [
    "import matplotlib.pyplot as plt"
   ]
  },
  {
   "cell_type": "code",
   "execution_count": 10,
   "metadata": {
    "execution": {
     "iopub.execute_input": "2020-11-12T21:05:22.974083Z",
     "iopub.status.busy": "2020-11-12T21:05:22.973236Z",
     "iopub.status.idle": "2020-11-12T21:05:23.236262Z",
     "shell.execute_reply": "2020-11-12T21:05:23.235541Z"
    },
    "papermill": {
     "duration": 0.296187,
     "end_time": "2020-11-12T21:05:23.236397",
     "exception": false,
     "start_time": "2020-11-12T21:05:22.940210",
     "status": "completed"
    },
    "tags": []
   },
   "outputs": [
    {
     "data": {
      "text/plain": [
       "<matplotlib.axes._subplots.AxesSubplot at 0x7f1784398950>"
      ]
     },
     "execution_count": 10,
     "metadata": {},
     "output_type": "execute_result"
    },
    {
     "data": {
      "image/png": "[encoded data removed]",
      "text/plain": [
       "<Figure size 432x288 with 1 Axes>"
      ]
     },
     "metadata": {
      "needs_background": "light"
     },
     "output_type": "display_data"
    }
   ],
   "source": [
    "plot1data.plot.bar(x='State',y='Population 2016')"
   ]
  },
  {
   "cell_type": "markdown",
   "metadata": {
    "papermill": {
     "duration": 0.029214,
     "end_time": "2020-11-12T21:05:23.294680",
     "exception": false,
     "start_time": "2020-11-12T21:05:23.265466",
     "status": "completed"
    },
    "tags": []
   },
   "source": [
    "Unsurprisingly, the row for the total population skews the graph and makes it harder to read.  We will correct this by creating a new dataframe without the \"total\" row.  "
   ]
  },
  {
   "cell_type": "code",
   "execution_count": 11,
   "metadata": {
    "execution": {
     "iopub.execute_input": "2020-11-12T21:05:23.376081Z",
     "iopub.status.busy": "2020-11-12T21:05:23.375170Z",
     "iopub.status.idle": "2020-11-12T21:05:23.379905Z",
     "shell.execute_reply": "2020-11-12T21:05:23.379159Z"
    },
    "papermill": {
     "duration": 0.05611,
     "end_time": "2020-11-12T21:05:23.380034",
     "exception": false,
     "start_time": "2020-11-12T21:05:23.323924",
     "status": "completed"
    },
    "tags": []
   },
   "outputs": [
    {
     "data": {
      "text/html": [
       "<div>\n",
       "<style scoped>\n",
       "    .dataframe tbody tr th:only-of-type {\n",
       "        vertical-align: middle;\n",
       "    }\n",
       "\n",
       "    .dataframe tbody tr th {\n",
       "        vertical-align: top;\n",
       "    }\n",
       "\n",
       "    .dataframe thead th {\n",
       "        text-align: right;\n",
       "    }\n",
       "</style>\n",
       "<table border=\"1\" class=\"dataframe\">\n",
       "  <thead>\n",
       "    <tr style=\"text-align: right;\">\n",
       "      <th></th>\n",
       "      <th>State</th>\n",
       "      <th>Population 2016</th>\n",
       "      <th>Total justice system PC</th>\n",
       "      <th>Police Protection PC</th>\n",
       "      <th>Judicial and legal PC</th>\n",
       "      <th>Corrections PC</th>\n",
       "      <th>Total justice system Employment</th>\n",
       "      <th>police protection Total Employment</th>\n",
       "      <th>police protection Sworn only Employment</th>\n",
       "      <th>Judicial and legal Employment</th>\n",
       "      <th>Corrections Employment</th>\n",
       "    </tr>\n",
       "  </thead>\n",
       "  <tbody>\n",
       "    <tr>\n",
       "      <th>5</th>\n",
       "      <td>California</td>\n",
       "      <td>39209127</td>\n",
       "      <td>1063.89</td>\n",
       "      <td>448.11</td>\n",
       "      <td>221.27</td>\n",
       "      <td>394.51</td>\n",
       "      <td>59.85</td>\n",
       "      <td>25.65</td>\n",
       "      <td>18.27</td>\n",
       "      <td>11.31</td>\n",
       "      <td>22.89</td>\n",
       "    </tr>\n",
       "    <tr>\n",
       "      <th>44</th>\n",
       "      <td>Texas</td>\n",
       "      <td>27937492</td>\n",
       "      <td>592.19</td>\n",
       "      <td>272.58</td>\n",
       "      <td>107.66</td>\n",
       "      <td>211.95</td>\n",
       "      <td>61.91</td>\n",
       "      <td>27.25</td>\n",
       "      <td>19.87</td>\n",
       "      <td>10.00</td>\n",
       "      <td>24.67</td>\n",
       "    </tr>\n",
       "    <tr>\n",
       "      <th>10</th>\n",
       "      <td>Florida</td>\n",
       "      <td>20629982</td>\n",
       "      <td>701.08</td>\n",
       "      <td>380.44</td>\n",
       "      <td>114.70</td>\n",
       "      <td>205.94</td>\n",
       "      <td>64.42</td>\n",
       "      <td>29.69</td>\n",
       "      <td>19.78</td>\n",
       "      <td>15.12</td>\n",
       "      <td>19.61</td>\n",
       "    </tr>\n",
       "    <tr>\n",
       "      <th>33</th>\n",
       "      <td>New York</td>\n",
       "      <td>19641589</td>\n",
       "      <td>1048.95</td>\n",
       "      <td>505.16</td>\n",
       "      <td>211.65</td>\n",
       "      <td>332.14</td>\n",
       "      <td>86.98</td>\n",
       "      <td>44.03</td>\n",
       "      <td>38.35</td>\n",
       "      <td>15.90</td>\n",
       "      <td>27.05</td>\n",
       "    </tr>\n",
       "    <tr>\n",
       "      <th>14</th>\n",
       "      <td>Illinois</td>\n",
       "      <td>12826895</td>\n",
       "      <td>671.84</td>\n",
       "      <td>406.65</td>\n",
       "      <td>120.78</td>\n",
       "      <td>144.41</td>\n",
       "      <td>60.34</td>\n",
       "      <td>31.95</td>\n",
       "      <td>25.49</td>\n",
       "      <td>10.68</td>\n",
       "      <td>17.71</td>\n",
       "    </tr>\n",
       "    <tr>\n",
       "      <th>39</th>\n",
       "      <td>Pennsylvania</td>\n",
       "      <td>12783538</td>\n",
       "      <td>714.15</td>\n",
       "      <td>290.79</td>\n",
       "      <td>148.86</td>\n",
       "      <td>274.49</td>\n",
       "      <td>63.48</td>\n",
       "      <td>25.13</td>\n",
       "      <td>20.88</td>\n",
       "      <td>14.17</td>\n",
       "      <td>24.18</td>\n",
       "    </tr>\n",
       "    <tr>\n",
       "      <th>36</th>\n",
       "      <td>Ohio</td>\n",
       "      <td>11635003</td>\n",
       "      <td>656.22</td>\n",
       "      <td>333.68</td>\n",
       "      <td>150.09</td>\n",
       "      <td>172.46</td>\n",
       "      <td>62.78</td>\n",
       "      <td>26.98</td>\n",
       "      <td>20.28</td>\n",
       "      <td>17.03</td>\n",
       "      <td>18.77</td>\n",
       "    </tr>\n",
       "    <tr>\n",
       "      <th>11</th>\n",
       "      <td>Georgia</td>\n",
       "      <td>10304763</td>\n",
       "      <td>568.02</td>\n",
       "      <td>263.81</td>\n",
       "      <td>117.93</td>\n",
       "      <td>186.28</td>\n",
       "      <td>66.31</td>\n",
       "      <td>26.65</td>\n",
       "      <td>21.33</td>\n",
       "      <td>13.89</td>\n",
       "      <td>25.77</td>\n",
       "    </tr>\n",
       "    <tr>\n",
       "      <th>34</th>\n",
       "      <td>North Carolina</td>\n",
       "      <td>10156679</td>\n",
       "      <td>576.85</td>\n",
       "      <td>322.10</td>\n",
       "      <td>75.23</td>\n",
       "      <td>179.52</td>\n",
       "      <td>60.49</td>\n",
       "      <td>27.51</td>\n",
       "      <td>22.46</td>\n",
       "      <td>7.43</td>\n",
       "      <td>25.55</td>\n",
       "    </tr>\n",
       "  </tbody>\n",
       "</table>\n",
       "</div>"
      ],
      "text/plain": [
       "             State  Population 2016  Total justice system PC   \\\n",
       "5       California         39209127                   1063.89   \n",
       "44           Texas         27937492                    592.19   \n",
       "10         Florida         20629982                    701.08   \n",
       "33        New York         19641589                   1048.95   \n",
       "14        Illinois         12826895                    671.84   \n",
       "39    Pennsylvania         12783538                    714.15   \n",
       "36            Ohio         11635003                    656.22   \n",
       "11         Georgia         10304763                    568.02   \n",
       "34  North Carolina         10156679                    576.85   \n",
       "\n",
       "    Police Protection PC  Judicial and legal PC  Corrections PC  \\\n",
       "5                 448.11                 221.27          394.51   \n",
       "44                272.58                 107.66          211.95   \n",
       "10                380.44                 114.70          205.94   \n",
       "33                505.16                 211.65          332.14   \n",
       "14                406.65                 120.78          144.41   \n",
       "39                290.79                 148.86          274.49   \n",
       "36                333.68                 150.09          172.46   \n",
       "11                263.81                 117.93          186.28   \n",
       "34                322.10                  75.23          179.52   \n",
       "\n",
       "    Total justice system Employment   police protection Total Employment   \\\n",
       "5                              59.85                                25.65   \n",
       "44                             61.91                                27.25   \n",
       "10                             64.42                                29.69   \n",
       "33                             86.98                                44.03   \n",
       "14                             60.34                                31.95   \n",
       "39                             63.48                                25.13   \n",
       "36                             62.78                                26.98   \n",
       "11                             66.31                                26.65   \n",
       "34                             60.49                                27.51   \n",
       "\n",
       "    police protection Sworn only Employment   Judicial and legal Employment   \\\n",
       "5                                      18.27                           11.31   \n",
       "44                                     19.87                           10.00   \n",
       "10                                     19.78                           15.12   \n",
       "33                                     38.35                           15.90   \n",
       "14                                     25.49                           10.68   \n",
       "39                                     20.88                           14.17   \n",
       "36                                     20.28                           17.03   \n",
       "11                                     21.33                           13.89   \n",
       "34                                     22.46                            7.43   \n",
       "\n",
       "    Corrections Employment   \n",
       "5                     22.89  \n",
       "44                    24.67  \n",
       "10                    19.61  \n",
       "33                    27.05  \n",
       "14                    17.71  \n",
       "39                    24.18  \n",
       "36                    18.77  \n",
       "11                    25.77  \n",
       "34                    25.55  "
      ]
     },
     "execution_count": 11,
     "metadata": {},
     "output_type": "execute_result"
    }
   ],
   "source": [
    "plot2data=plot1data.iloc[1:10]\n",
    "plot2data"
   ]
  },
  {
   "cell_type": "markdown",
   "metadata": {
    "papermill": {
     "duration": 0.031473,
     "end_time": "2020-11-12T21:05:23.442752",
     "exception": false,
     "start_time": "2020-11-12T21:05:23.411279",
     "status": "completed"
    },
    "tags": []
   },
   "source": [
    "The new dataframe looks good, with the states listed by population."
   ]
  },
  {
   "cell_type": "code",
   "execution_count": 12,
   "metadata": {
    "execution": {
     "iopub.execute_input": "2020-11-12T21:05:23.584575Z",
     "iopub.status.busy": "2020-11-12T21:05:23.513141Z",
     "iopub.status.idle": "2020-11-12T21:05:23.779463Z",
     "shell.execute_reply": "2020-11-12T21:05:23.778700Z"
    },
    "papermill": {
     "duration": 0.306854,
     "end_time": "2020-11-12T21:05:23.779608",
     "exception": false,
     "start_time": "2020-11-12T21:05:23.472754",
     "status": "completed"
    },
    "tags": []
   },
   "outputs": [
    {
     "data": {
      "text/plain": [
       "<matplotlib.axes._subplots.AxesSubplot at 0x7f1784167390>"
      ]
     },
     "execution_count": 12,
     "metadata": {},
     "output_type": "execute_result"
    },
    {
     "data": {
      "image/png": "[encoded data removed]",
      "text/plain": [
       "<Figure size 432x288 with 1 Axes>"
      ]
     },
     "metadata": {
      "needs_background": "light"
     },
     "output_type": "display_data"
    }
   ],
   "source": [
    "plot2data.plot.bar(x='State',y='Population 2016')"
   ]
  },
  {
   "cell_type": "markdown",
   "metadata": {
    "papermill": {
     "duration": 0.031366,
     "end_time": "2020-11-12T21:05:23.842645",
     "exception": false,
     "start_time": "2020-11-12T21:05:23.811279",
     "status": "completed"
    },
    "tags": []
   },
   "source": [
    "As we can see, the graph is more readable now."
   ]
  },
  {
   "cell_type": "markdown",
   "metadata": {
    "papermill": {
     "duration": 0.032915,
     "end_time": "2020-11-12T21:05:23.906879",
     "exception": false,
     "start_time": "2020-11-12T21:05:23.873964",
     "status": "completed"
    },
    "tags": []
   },
   "source": [
    "Now, we can explore correlations between the various factors for the most populous states."
   ]
  },
  {
   "cell_type": "code",
   "execution_count": 13,
   "metadata": {
    "execution": {
     "iopub.execute_input": "2020-11-12T21:05:23.997026Z",
     "iopub.status.busy": "2020-11-12T21:05:23.996261Z",
     "iopub.status.idle": "2020-11-12T21:05:24.001827Z",
     "shell.execute_reply": "2020-11-12T21:05:24.001162Z"
    },
    "papermill": {
     "duration": 0.06057,
     "end_time": "2020-11-12T21:05:24.001965",
     "exception": false,
     "start_time": "2020-11-12T21:05:23.941395",
     "status": "completed"
    },
    "tags": []
   },
   "outputs": [
    {
     "data": {
      "text/html": [
       "<div>\n",
       "<style scoped>\n",
       "    .dataframe tbody tr th:only-of-type {\n",
       "        vertical-align: middle;\n",
       "    }\n",
       "\n",
       "    .dataframe tbody tr th {\n",
       "        vertical-align: top;\n",
       "    }\n",
       "\n",
       "    .dataframe thead th {\n",
       "        text-align: right;\n",
       "    }\n",
       "</style>\n",
       "<table border=\"1\" class=\"dataframe\">\n",
       "  <thead>\n",
       "    <tr style=\"text-align: right;\">\n",
       "      <th></th>\n",
       "      <th>Population 2016</th>\n",
       "      <th>Total justice system PC</th>\n",
       "      <th>Police Protection PC</th>\n",
       "      <th>Judicial and legal PC</th>\n",
       "      <th>Corrections PC</th>\n",
       "      <th>Total justice system Employment</th>\n",
       "      <th>police protection Total Employment</th>\n",
       "      <th>police protection Sworn only Employment</th>\n",
       "      <th>Judicial and legal Employment</th>\n",
       "      <th>Corrections Employment</th>\n",
       "    </tr>\n",
       "  </thead>\n",
       "  <tbody>\n",
       "    <tr>\n",
       "      <th>Population 2016</th>\n",
       "      <td>1.000000</td>\n",
       "      <td>0.629700</td>\n",
       "      <td>0.401611</td>\n",
       "      <td>0.557913</td>\n",
       "      <td>0.720655</td>\n",
       "      <td>-0.051925</td>\n",
       "      <td>-0.034166</td>\n",
       "      <td>-0.170579</td>\n",
       "      <td>-0.152402</td>\n",
       "      <td>0.071594</td>\n",
       "    </tr>\n",
       "    <tr>\n",
       "      <th>Total justice system PC</th>\n",
       "      <td>0.629700</td>\n",
       "      <td>1.000000</td>\n",
       "      <td>0.858259</td>\n",
       "      <td>0.933851</td>\n",
       "      <td>0.896495</td>\n",
       "      <td>0.516875</td>\n",
       "      <td>0.506651</td>\n",
       "      <td>0.458480</td>\n",
       "      <td>0.258691</td>\n",
       "      <td>0.171108</td>\n",
       "    </tr>\n",
       "    <tr>\n",
       "      <th>Police Protection PC</th>\n",
       "      <td>0.401611</td>\n",
       "      <td>0.858259</td>\n",
       "      <td>1.000000</td>\n",
       "      <td>0.707081</td>\n",
       "      <td>0.561198</td>\n",
       "      <td>0.532716</td>\n",
       "      <td>0.719698</td>\n",
       "      <td>0.623404</td>\n",
       "      <td>0.193588</td>\n",
       "      <td>-0.097029</td>\n",
       "    </tr>\n",
       "    <tr>\n",
       "      <th>Judicial and legal PC</th>\n",
       "      <td>0.557913</td>\n",
       "      <td>0.933851</td>\n",
       "      <td>0.707081</td>\n",
       "      <td>1.000000</td>\n",
       "      <td>0.857228</td>\n",
       "      <td>0.486462</td>\n",
       "      <td>0.387729</td>\n",
       "      <td>0.370821</td>\n",
       "      <td>0.453750</td>\n",
       "      <td>0.119723</td>\n",
       "    </tr>\n",
       "    <tr>\n",
       "      <th>Corrections PC</th>\n",
       "      <td>0.720655</td>\n",
       "      <td>0.896495</td>\n",
       "      <td>0.561198</td>\n",
       "      <td>0.857228</td>\n",
       "      <td>1.000000</td>\n",
       "      <td>0.372204</td>\n",
       "      <td>0.219319</td>\n",
       "      <td>0.214708</td>\n",
       "      <td>0.137186</td>\n",
       "      <td>0.420174</td>\n",
       "    </tr>\n",
       "    <tr>\n",
       "      <th>Total justice system Employment</th>\n",
       "      <td>-0.051925</td>\n",
       "      <td>0.516875</td>\n",
       "      <td>0.532716</td>\n",
       "      <td>0.486462</td>\n",
       "      <td>0.372204</td>\n",
       "      <td>1.000000</td>\n",
       "      <td>0.890177</td>\n",
       "      <td>0.898571</td>\n",
       "      <td>0.503602</td>\n",
       "      <td>0.484017</td>\n",
       "    </tr>\n",
       "    <tr>\n",
       "      <th>police protection Total Employment</th>\n",
       "      <td>-0.034166</td>\n",
       "      <td>0.506651</td>\n",
       "      <td>0.719698</td>\n",
       "      <td>0.387729</td>\n",
       "      <td>0.219319</td>\n",
       "      <td>0.890177</td>\n",
       "      <td>1.000000</td>\n",
       "      <td>0.961806</td>\n",
       "      <td>0.293303</td>\n",
       "      <td>0.216271</td>\n",
       "    </tr>\n",
       "    <tr>\n",
       "      <th>police protection Sworn only Employment</th>\n",
       "      <td>-0.170579</td>\n",
       "      <td>0.458480</td>\n",
       "      <td>0.623404</td>\n",
       "      <td>0.370821</td>\n",
       "      <td>0.214708</td>\n",
       "      <td>0.898571</td>\n",
       "      <td>0.961806</td>\n",
       "      <td>1.000000</td>\n",
       "      <td>0.242238</td>\n",
       "      <td>0.350464</td>\n",
       "    </tr>\n",
       "    <tr>\n",
       "      <th>Judicial and legal Employment</th>\n",
       "      <td>-0.152402</td>\n",
       "      <td>0.258691</td>\n",
       "      <td>0.193588</td>\n",
       "      <td>0.453750</td>\n",
       "      <td>0.137186</td>\n",
       "      <td>0.503602</td>\n",
       "      <td>0.293303</td>\n",
       "      <td>0.242238</td>\n",
       "      <td>1.000000</td>\n",
       "      <td>-0.181697</td>\n",
       "    </tr>\n",
       "    <tr>\n",
       "      <th>Corrections Employment</th>\n",
       "      <td>0.071594</td>\n",
       "      <td>0.171108</td>\n",
       "      <td>-0.097029</td>\n",
       "      <td>0.119723</td>\n",
       "      <td>0.420174</td>\n",
       "      <td>0.484017</td>\n",
       "      <td>0.216271</td>\n",
       "      <td>0.350464</td>\n",
       "      <td>-0.181697</td>\n",
       "      <td>1.000000</td>\n",
       "    </tr>\n",
       "  </tbody>\n",
       "</table>\n",
       "</div>"
      ],
      "text/plain": [
       "                                          Population 2016  \\\n",
       "Population 2016                                  1.000000   \n",
       "Total justice system PC                          0.629700   \n",
       "Police Protection PC                             0.401611   \n",
       "Judicial and legal PC                            0.557913   \n",
       "Corrections PC                                   0.720655   \n",
       "Total justice system Employment                 -0.051925   \n",
       "police protection Total Employment              -0.034166   \n",
       "police protection Sworn only Employment         -0.170579   \n",
       "Judicial and legal Employment                   -0.152402   \n",
       "Corrections Employment                           0.071594   \n",
       "\n",
       "                                          Total justice system PC   \\\n",
       "Population 2016                                           0.629700   \n",
       "Total justice system PC                                   1.000000   \n",
       "Police Protection PC                                      0.858259   \n",
       "Judicial and legal PC                                     0.933851   \n",
       "Corrections PC                                            0.896495   \n",
       "Total justice system Employment                           0.516875   \n",
       "police protection Total Employment                        0.506651   \n",
       "police protection Sworn only Employment                   0.458480   \n",
       "Judicial and legal Employment                             0.258691   \n",
       "Corrections Employment                                    0.171108   \n",
       "\n",
       "                                          Police Protection PC  \\\n",
       "Population 2016                                       0.401611   \n",
       "Total justice system PC                               0.858259   \n",
       "Police Protection PC                                  1.000000   \n",
       "Judicial and legal PC                                 0.707081   \n",
       "Corrections PC                                        0.561198   \n",
       "Total justice system Employment                       0.532716   \n",
       "police protection Total Employment                    0.719698   \n",
       "police protection Sworn only Employment               0.623404   \n",
       "Judicial and legal Employment                         0.193588   \n",
       "Corrections Employment                               -0.097029   \n",
       "\n",
       "                                          Judicial and legal PC  \\\n",
       "Population 2016                                        0.557913   \n",
       "Total justice system PC                                0.933851   \n",
       "Police Protection PC                                   0.707081   \n",
       "Judicial and legal PC                                  1.000000   \n",
       "Corrections PC                                         0.857228   \n",
       "Total justice system Employment                        0.486462   \n",
       "police protection Total Employment                     0.387729   \n",
       "police protection Sworn only Employment                0.370821   \n",
       "Judicial and legal Employment                          0.453750   \n",
       "Corrections Employment                                 0.119723   \n",
       "\n",
       "                                          Corrections PC  \\\n",
       "Population 2016                                 0.720655   \n",
       "Total justice system PC                         0.896495   \n",
       "Police Protection PC                            0.561198   \n",
       "Judicial and legal PC                           0.857228   \n",
       "Corrections PC                                  1.000000   \n",
       "Total justice system Employment                 0.372204   \n",
       "police protection Total Employment              0.219319   \n",
       "police protection Sworn only Employment         0.214708   \n",
       "Judicial and legal Employment                   0.137186   \n",
       "Corrections Employment                          0.420174   \n",
       "\n",
       "                                          Total justice system Employment   \\\n",
       "Population 2016                                                  -0.051925   \n",
       "Total justice system PC                                           0.516875   \n",
       "Police Protection PC                                              0.532716   \n",
       "Judicial and legal PC                                             0.486462   \n",
       "Corrections PC                                                    0.372204   \n",
       "Total justice system Employment                                   1.000000   \n",
       "police protection Total Employment                                0.890177   \n",
       "police protection Sworn only Employment                           0.898571   \n",
       "Judicial and legal Employment                                     0.503602   \n",
       "Corrections Employment                                            0.484017   \n",
       "\n",
       "                                          police protection Total Employment   \\\n",
       "Population 2016                                                     -0.034166   \n",
       "Total justice system PC                                              0.506651   \n",
       "Police Protection PC                                                 0.719698   \n",
       "Judicial and legal PC                                                0.387729   \n",
       "Corrections PC                                                       0.219319   \n",
       "Total justice system Employment                                      0.890177   \n",
       "police protection Total Employment                                   1.000000   \n",
       "police protection Sworn only Employment                              0.961806   \n",
       "Judicial and legal Employment                                        0.293303   \n",
       "Corrections Employment                                               0.216271   \n",
       "\n",
       "                                          police protection Sworn only Employment   \\\n",
       "Population 2016                                                          -0.170579   \n",
       "Total justice system PC                                                   0.458480   \n",
       "Police Protection PC                                                      0.623404   \n",
       "Judicial and legal PC                                                     0.370821   \n",
       "Corrections PC                                                            0.214708   \n",
       "Total justice system Employment                                           0.898571   \n",
       "police protection Total Employment                                        0.961806   \n",
       "police protection Sworn only Employment                                   1.000000   \n",
       "Judicial and legal Employment                                             0.242238   \n",
       "Corrections Employment                                                    0.350464   \n",
       "\n",
       "                                          Judicial and legal Employment   \\\n",
       "Population 2016                                                -0.152402   \n",
       "Total justice system PC                                         0.258691   \n",
       "Police Protection PC                                            0.193588   \n",
       "Judicial and legal PC                                           0.453750   \n",
       "Corrections PC                                                  0.137186   \n",
       "Total justice system Employment                                 0.503602   \n",
       "police protection Total Employment                              0.293303   \n",
       "police protection Sworn only Employment                         0.242238   \n",
       "Judicial and legal Employment                                   1.000000   \n",
       "Corrections Employment                                         -0.181697   \n",
       "\n",
       "                                          Corrections Employment   \n",
       "Population 2016                                          0.071594  \n",
       "Total justice system PC                                  0.171108  \n",
       "Police Protection PC                                    -0.097029  \n",
       "Judicial and legal PC                                    0.119723  \n",
       "Corrections PC                                           0.420174  \n",
       "Total justice system Employment                          0.484017  \n",
       "police protection Total Employment                       0.216271  \n",
       "police protection Sworn only Employment                  0.350464  \n",
       "Judicial and legal Employment                           -0.181697  \n",
       "Corrections Employment                                   1.000000  "
      ]
     },
     "execution_count": 13,
     "metadata": {},
     "output_type": "execute_result"
    }
   ],
   "source": [
    "plot2data.corr()"
   ]
  },
  {
   "cell_type": "markdown",
   "metadata": {
    "papermill": {
     "duration": 0.033576,
     "end_time": "2020-11-12T21:05:24.068974",
     "exception": false,
     "start_time": "2020-11-12T21:05:24.035398",
     "status": "completed"
    },
    "tags": []
   },
   "source": [
    "Now, let's see which 3 variables correlate the most with population (notice how the index is 4 because the top correlation will be the variable with itself)..."
   ]
  },
  {
   "cell_type": "code",
   "execution_count": 14,
   "metadata": {
    "execution": {
     "iopub.execute_input": "2020-11-12T21:05:24.155989Z",
     "iopub.status.busy": "2020-11-12T21:05:24.154841Z",
     "iopub.status.idle": "2020-11-12T21:05:24.159278Z",
     "shell.execute_reply": "2020-11-12T21:05:24.159996Z"
    },
    "papermill": {
     "duration": 0.057258,
     "end_time": "2020-11-12T21:05:24.160162",
     "exception": false,
     "start_time": "2020-11-12T21:05:24.102904",
     "status": "completed"
    },
    "tags": []
   },
   "outputs": [
    {
     "data": {
      "text/html": [
       "<div>\n",
       "<style scoped>\n",
       "    .dataframe tbody tr th:only-of-type {\n",
       "        vertical-align: middle;\n",
       "    }\n",
       "\n",
       "    .dataframe tbody tr th {\n",
       "        vertical-align: top;\n",
       "    }\n",
       "\n",
       "    .dataframe thead th {\n",
       "        text-align: right;\n",
       "    }\n",
       "</style>\n",
       "<table border=\"1\" class=\"dataframe\">\n",
       "  <thead>\n",
       "    <tr style=\"text-align: right;\">\n",
       "      <th></th>\n",
       "      <th>Population 2016</th>\n",
       "      <th>Total justice system PC</th>\n",
       "      <th>Police Protection PC</th>\n",
       "      <th>Judicial and legal PC</th>\n",
       "      <th>Corrections PC</th>\n",
       "      <th>Total justice system Employment</th>\n",
       "      <th>police protection Total Employment</th>\n",
       "      <th>police protection Sworn only Employment</th>\n",
       "      <th>Judicial and legal Employment</th>\n",
       "      <th>Corrections Employment</th>\n",
       "    </tr>\n",
       "  </thead>\n",
       "  <tbody>\n",
       "    <tr>\n",
       "      <th>Population 2016</th>\n",
       "      <td>1.000000</td>\n",
       "      <td>0.629700</td>\n",
       "      <td>0.401611</td>\n",
       "      <td>0.557913</td>\n",
       "      <td>0.720655</td>\n",
       "      <td>-0.051925</td>\n",
       "      <td>-0.034166</td>\n",
       "      <td>-0.170579</td>\n",
       "      <td>-0.152402</td>\n",
       "      <td>0.071594</td>\n",
       "    </tr>\n",
       "    <tr>\n",
       "      <th>Corrections PC</th>\n",
       "      <td>0.720655</td>\n",
       "      <td>0.896495</td>\n",
       "      <td>0.561198</td>\n",
       "      <td>0.857228</td>\n",
       "      <td>1.000000</td>\n",
       "      <td>0.372204</td>\n",
       "      <td>0.219319</td>\n",
       "      <td>0.214708</td>\n",
       "      <td>0.137186</td>\n",
       "      <td>0.420174</td>\n",
       "    </tr>\n",
       "    <tr>\n",
       "      <th>Total justice system PC</th>\n",
       "      <td>0.629700</td>\n",
       "      <td>1.000000</td>\n",
       "      <td>0.858259</td>\n",
       "      <td>0.933851</td>\n",
       "      <td>0.896495</td>\n",
       "      <td>0.516875</td>\n",
       "      <td>0.506651</td>\n",
       "      <td>0.458480</td>\n",
       "      <td>0.258691</td>\n",
       "      <td>0.171108</td>\n",
       "    </tr>\n",
       "    <tr>\n",
       "      <th>Judicial and legal PC</th>\n",
       "      <td>0.557913</td>\n",
       "      <td>0.933851</td>\n",
       "      <td>0.707081</td>\n",
       "      <td>1.000000</td>\n",
       "      <td>0.857228</td>\n",
       "      <td>0.486462</td>\n",
       "      <td>0.387729</td>\n",
       "      <td>0.370821</td>\n",
       "      <td>0.453750</td>\n",
       "      <td>0.119723</td>\n",
       "    </tr>\n",
       "  </tbody>\n",
       "</table>\n",
       "</div>"
      ],
      "text/plain": [
       "                          Population 2016  Total justice system PC   \\\n",
       "Population 2016                  1.000000                  0.629700   \n",
       "Corrections PC                   0.720655                  0.896495   \n",
       "Total justice system PC          0.629700                  1.000000   \n",
       "Judicial and legal PC            0.557913                  0.933851   \n",
       "\n",
       "                          Police Protection PC  Judicial and legal PC  \\\n",
       "Population 2016                       0.401611               0.557913   \n",
       "Corrections PC                        0.561198               0.857228   \n",
       "Total justice system PC               0.858259               0.933851   \n",
       "Judicial and legal PC                 0.707081               1.000000   \n",
       "\n",
       "                          Corrections PC  Total justice system Employment   \\\n",
       "Population 2016                 0.720655                         -0.051925   \n",
       "Corrections PC                  1.000000                          0.372204   \n",
       "Total justice system PC         0.896495                          0.516875   \n",
       "Judicial and legal PC           0.857228                          0.486462   \n",
       "\n",
       "                          police protection Total Employment   \\\n",
       "Population 2016                                     -0.034166   \n",
       "Corrections PC                                       0.219319   \n",
       "Total justice system PC                              0.506651   \n",
       "Judicial and legal PC                                0.387729   \n",
       "\n",
       "                          police protection Sworn only Employment   \\\n",
       "Population 2016                                          -0.170579   \n",
       "Corrections PC                                            0.214708   \n",
       "Total justice system PC                                   0.458480   \n",
       "Judicial and legal PC                                     0.370821   \n",
       "\n",
       "                          Judicial and legal Employment   \\\n",
       "Population 2016                                -0.152402   \n",
       "Corrections PC                                  0.137186   \n",
       "Total justice system PC                         0.258691   \n",
       "Judicial and legal PC                           0.453750   \n",
       "\n",
       "                          Corrections Employment   \n",
       "Population 2016                          0.071594  \n",
       "Corrections PC                           0.420174  \n",
       "Total justice system PC                  0.171108  \n",
       "Judicial and legal PC                    0.119723  "
      ]
     },
     "execution_count": 14,
     "metadata": {},
     "output_type": "execute_result"
    }
   ],
   "source": [
    "plot2data.corr().nlargest(4,['Population 2016'])"
   ]
  },
  {
   "cell_type": "markdown",
   "metadata": {
    "papermill": {
     "duration": 0.036172,
     "end_time": "2020-11-12T21:05:24.232571",
     "exception": false,
     "start_time": "2020-11-12T21:05:24.196399",
     "status": "completed"
    },
    "tags": []
   },
   "source": [
    "...and we plot the results."
   ]
  },
  {
   "cell_type": "code",
   "execution_count": 15,
   "metadata": {
    "execution": {
     "iopub.execute_input": "2020-11-12T21:05:24.319819Z",
     "iopub.status.busy": "2020-11-12T21:05:24.318132Z",
     "iopub.status.idle": "2020-11-12T21:05:25.116749Z",
     "shell.execute_reply": "2020-11-12T21:05:25.117294Z"
    },
    "papermill": {
     "duration": 0.849623,
     "end_time": "2020-11-12T21:05:25.117500",
     "exception": false,
     "start_time": "2020-11-12T21:05:24.267877",
     "status": "completed"
    },
    "tags": []
   },
   "outputs": [
    {
     "data": {
      "text/plain": [
       "<matplotlib.axes._subplots.AxesSubplot at 0x7f177ff51bd0>"
      ]
     },
     "execution_count": 15,
     "metadata": {},
     "output_type": "execute_result"
    },
    {
     "data": {
      "image/png": "[encoded data removed]",
      "text/plain": [
       "<Figure size 432x288 with 1 Axes>"
      ]
     },
     "metadata": {
      "needs_background": "light"
     },
     "output_type": "display_data"
    },
    {
     "data": {
      "image/png": "[encoded data removed]",
      "text/plain": [
       "<Figure size 432x288 with 1 Axes>"
      ]
     },
     "metadata": {
      "needs_background": "light"
     },
     "output_type": "display_data"
    },
    {
     "data": {
      "image/png": "[encoded data removed]",
      "text/plain": [
       "<Figure size 432x288 with 1 Axes>"
      ]
     },
     "metadata": {
      "needs_background": "light"
     },
     "output_type": "display_data"
    },
    {
     "data": {
      "image/png": "[encoded data removed]",
      "text/plain": [
       "<Figure size 432x288 with 1 Axes>"
      ]
     },
     "metadata": {
      "needs_background": "light"
     },
     "output_type": "display_data"
    }
   ],
   "source": [
    "plot2data.plot.bar(x='State',y='Population 2016')\n",
    "plot2data.plot.bar(x='State',y='Corrections PC')\n",
    "plot2data.plot.bar(x='State',y='Total justice system PC ')\n",
    "plot2data.plot.bar(x='State',y='Judicial and legal PC')"
   ]
  },
  {
   "cell_type": "markdown",
   "metadata": {
    "papermill": {
     "duration": 0.038323,
     "end_time": "2020-11-12T21:05:25.193752",
     "exception": false,
     "start_time": "2020-11-12T21:05:25.155429",
     "status": "completed"
    },
    "tags": []
   },
   "source": [
    "# Conclusion"
   ]
  },
  {
   "cell_type": "markdown",
   "metadata": {
    "papermill": {
     "duration": 0.038414,
     "end_time": "2020-11-12T21:05:25.271808",
     "exception": false,
     "start_time": "2020-11-12T21:05:25.233394",
     "status": "completed"
    },
    "tags": []
   },
   "source": [
    "We can see that the three variables in justice system expenditures that correlate the most with the population of the 9 biggest states by population are corrections per capita, total justice system expenditures per capita, and judicial and legal expenditures per capita.  Further work may be done to increase precision, such as removing or adjusting the outlying states of California and New York, which have such visibly higher values than the next closest states. "
   ]
  }
 ],
 "metadata": {
  "kernelspec": {
   "display_name": "Python 3",
   "language": "python",
   "name": "python3"
  },
  "language_info": {
   "codemirror_mode": {
    "name": "ipython",
    "version": 3
   },
   "file_extension": ".py",
   "mimetype": "text/x-python",
   "name": "python",
   "nbconvert_exporter": "python",
   "pygments_lexer": "ipython3",
   "version": "3.7.6"
  },
  "papermill": {
   "duration": 8.471956,
   "end_time": "2020-11-12T21:05:25.421674",
   "environment_variables": {},
   "exception": null,
   "input_path": "__notebook__.ipynb",
   "output_path": "__notebook__.ipynb",
   "parameters": {},
   "start_time": "2020-11-12T21:05:16.949718",
   "version": "2.1.0"
  }
 },
 "nbformat": 4,
 "nbformat_minor": 4
}
